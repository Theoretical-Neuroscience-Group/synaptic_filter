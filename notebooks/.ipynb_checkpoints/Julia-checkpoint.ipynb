{
 "cells": [
  {
   "cell_type": "markdown",
   "id": "1b005bc7-76fd-428c-8e91-6014ffceb024",
   "metadata": {},
   "source": [
    "Use Julia 1.6 to run this notebook"
   ]
  },
  {
   "cell_type": "code",
   "execution_count": null,
   "id": "5d10b40a-c1e4-41b5-8a71-b854caab607b",
   "metadata": {},
   "outputs": [],
   "source": [
    "using LinearAlgebra"
   ]
  },
  {
   "cell_type": "code",
   "execution_count": 71,
   "id": "e1326d1a-9bc8-402c-9dc5-1681088020d9",
   "metadata": {},
   "outputs": [
    {
     "data": {
      "text/plain": [
       "update_filter! (generic function with 1 method)"
      ]
     },
     "execution_count": 71,
     "metadata": {},
     "output_type": "execute_result"
    }
   ],
   "source": [
    "function update_filter!(μ, Σ, x, y, g0, β, τOU, σOU2, dt)\n",
    "    v = β * Σ * x\n",
    "    u = β * dot(μ, x)\n",
    "    γ = g0 * dt * exp(u + 1/2 * dot(v, v))\n",
    "    \n",
    "    μ .+= -μ ./ τOU .* dt .+ v .* (y - γ)\n",
    "    Σ .+= -γ .* v * transpose(v) .- 2 .* (Σ - σOU2 * I) ./ τOU .* dt\n",
    "end"
   ]
  },
  {
   "cell_type": "code",
   "execution_count": 51,
   "id": "86165478-8d78-4894-a0ae-e00cf7597d41",
   "metadata": {},
   "outputs": [
    {
     "data": {
      "text/plain": [
       "1"
      ]
     },
     "execution_count": 51,
     "metadata": {},
     "output_type": "execute_result"
    }
   ],
   "source": [
    "μ    = rand(10)\n",
    "Σ    = rand(10, 10)\n",
    "x    = rand(10)\n",
    "g0   = 0.1\n",
    "β    = 0.01\n",
    "τOU  = 1.\n",
    "σOU2 = 1.\n",
    "dt   = 1e-3\n",
    "y    = 1"
   ]
  },
  {
   "cell_type": "code",
   "execution_count": 72,
   "id": "98555e39-9e2d-4773-88cd-2f006fd1a181",
   "metadata": {
    "collapsed": true,
    "jupyter": {
     "outputs_hidden": true
    },
    "tags": []
   },
   "outputs": [
    {
     "name": "stdout",
     "output_type": "stream",
     "text": [
      "Variables\n",
      "  #self#\u001b[36m::Core.Const(update_filter!)\u001b[39m\n",
      "  μ\u001b[36m::Vector{Float64}\u001b[39m\n",
      "  Σ\u001b[36m::Matrix{Float64}\u001b[39m\n",
      "  x\u001b[36m::Vector{Float64}\u001b[39m\n",
      "  y\u001b[36m::Int64\u001b[39m\n",
      "  g0\u001b[36m::Float64\u001b[39m\n",
      "  β\u001b[36m::Float64\u001b[39m\n",
      "  τOU\u001b[36m::Float64\u001b[39m\n",
      "  σOU2\u001b[36m::Float64\u001b[39m\n",
      "  dt\u001b[36m::Float64\u001b[39m\n",
      "  γ\u001b[36m::Float64\u001b[39m\n",
      "  u\u001b[36m::Float64\u001b[39m\n",
      "  v\u001b[36m::Vector{Float64}\u001b[39m\n",
      "\n",
      "Body\u001b[36m::Matrix{Float64}\u001b[39m\n",
      "\u001b[90m1 ─\u001b[39m       (v = β * Σ * x)\n",
      "\u001b[90m│  \u001b[39m %2  = Main.dot(μ, x)\u001b[36m::Float64\u001b[39m\n",
      "\u001b[90m│  \u001b[39m       (u = β * %2)\n",
      "\u001b[90m│  \u001b[39m %4  = u\u001b[36m::Float64\u001b[39m\n",
      "\u001b[90m│  \u001b[39m %5  = (1 / 2)\u001b[36m::Core.Const(0.5)\u001b[39m\n",
      "\u001b[90m│  \u001b[39m %6  = Main.dot(v, v)\u001b[36m::Float64\u001b[39m\n",
      "\u001b[90m│  \u001b[39m %7  = (%5 * %6)\u001b[36m::Float64\u001b[39m\n",
      "\u001b[90m│  \u001b[39m %8  = (%4 + %7)\u001b[36m::Float64\u001b[39m\n",
      "\u001b[90m│  \u001b[39m %9  = Main.exp(%8)\u001b[36m::Float64\u001b[39m\n",
      "\u001b[90m│  \u001b[39m       (γ = g0 * dt * %9)\n",
      "\u001b[90m│  \u001b[39m %11 = -μ\u001b[36m::Vector{Float64}\u001b[39m\n",
      "\u001b[90m│  \u001b[39m %12 = Base.broadcasted(Main.:/, %11, τOU)\u001b[36m::Base.Broadcast.Broadcasted{Base.Broadcast.DefaultArrayStyle{1}, Nothing, typeof(/), Tuple{Vector{Float64}, Float64}}\u001b[39m\n",
      "\u001b[90m│  \u001b[39m %13 = Base.broadcasted(Main.:*, %12, dt)\u001b[36m::Base.Broadcast.Broadcasted{Base.Broadcast.DefaultArrayStyle{1}, Nothing, typeof(*), Tuple{Base.Broadcast.Broadcasted{Base.Broadcast.DefaultArrayStyle{1}, Nothing, typeof(/), Tuple{Vector{Float64}, Float64}}, Float64}}\u001b[39m\n",
      "\u001b[90m│  \u001b[39m %14 = v\u001b[36m::Vector{Float64}\u001b[39m\n",
      "\u001b[90m│  \u001b[39m %15 = (y - γ)\u001b[36m::Float64\u001b[39m\n",
      "\u001b[90m│  \u001b[39m %16 = Base.broadcasted(Main.:*, %14, %15)\u001b[36m::Base.Broadcast.Broadcasted{Base.Broadcast.DefaultArrayStyle{1}, Nothing, typeof(*), Tuple{Vector{Float64}, Float64}}\u001b[39m\n",
      "\u001b[90m│  \u001b[39m %17 = Base.broadcasted(Main.:+, %13, %16)\u001b[36m::Base.Broadcast.Broadcasted{Base.Broadcast.DefaultArrayStyle{1}, Nothing, typeof(+), Tuple{Base.Broadcast.Broadcasted{Base.Broadcast.DefaultArrayStyle{1}, Nothing, typeof(*), Tuple{Base.Broadcast.Broadcasted{Base.Broadcast.DefaultArrayStyle{1}, Nothing, typeof(/), Tuple{Vector{Float64}, Float64}}, Float64}}, Base.Broadcast.Broadcasted{Base.Broadcast.DefaultArrayStyle{1}, Nothing, typeof(*), Tuple{Vector{Float64}, Float64}}}}\u001b[39m\n",
      "\u001b[90m│  \u001b[39m %18 = Base.broadcasted(Main.:+, μ, %17)\u001b[36m::Base.Broadcast.Broadcasted{Base.Broadcast.DefaultArrayStyle{1}, Nothing, typeof(+), Tuple{Vector{Float64}, Base.Broadcast.Broadcasted{Base.Broadcast.DefaultArrayStyle{1}, Nothing, typeof(+), Tuple{Base.Broadcast.Broadcasted{Base.Broadcast.DefaultArrayStyle{1}, Nothing, typeof(*), Tuple{Base.Broadcast.Broadcasted{Base.Broadcast.DefaultArrayStyle{1}, Nothing, typeof(/), Tuple{Vector{Float64}, Float64}}, Float64}}, Base.Broadcast.Broadcasted{Base.Broadcast.DefaultArrayStyle{1}, Nothing, typeof(*), Tuple{Vector{Float64}, Float64}}}}}}\u001b[39m\n",
      "\u001b[90m│  \u001b[39m       Base.materialize!(μ, %18)\n",
      "\u001b[90m│  \u001b[39m %20 = -γ\u001b[36m::Float64\u001b[39m\n",
      "\u001b[90m│  \u001b[39m %21 = Base.broadcasted(Main.:*, %20, v)\u001b[36m::Base.Broadcast.Broadcasted{Base.Broadcast.DefaultArrayStyle{1}, Nothing, typeof(*), Tuple{Float64, Vector{Float64}}}\u001b[39m\n",
      "\u001b[90m│  \u001b[39m %22 = Base.materialize(%21)\u001b[36m::Vector{Float64}\u001b[39m\n",
      "\u001b[90m│  \u001b[39m %23 = Main.transpose(v)\u001b[36m::Transpose{Float64, Vector{Float64}}\u001b[39m\n",
      "\u001b[90m│  \u001b[39m %24 = (%22 * %23)\u001b[36m::Matrix{Float64}\u001b[39m\n",
      "\u001b[90m│  \u001b[39m %25 = (σOU2 * Main.I)\u001b[36m::UniformScaling{Float64}\u001b[39m\n",
      "\u001b[90m│  \u001b[39m %26 = (Σ - %25)\u001b[36m::Matrix{Float64}\u001b[39m\n",
      "\u001b[90m│  \u001b[39m %27 = Base.broadcasted(Main.:*, 2, %26)\u001b[36m::Core.PartialStruct(Base.Broadcast.Broadcasted{Base.Broadcast.DefaultArrayStyle{2}, Nothing, typeof(*), Tuple{Int64, Matrix{Float64}}}, Any[Core.Const(*), Core.PartialStruct(Tuple{Int64, Matrix{Float64}}, Any[Core.Const(2), Matrix{Float64}]), Core.Const(nothing)])\u001b[39m\n",
      "\u001b[90m│  \u001b[39m %28 = Base.broadcasted(Main.:/, %27, τOU)\u001b[36m::Core.PartialStruct(Base.Broadcast.Broadcasted{Base.Broadcast.DefaultArrayStyle{2}, Nothing, typeof(/), Tuple{Base.Broadcast.Broadcasted{Base.Broadcast.DefaultArrayStyle{2}, Nothing, typeof(*), Tuple{Int64, Matrix{Float64}}}, Float64}}, Any[Core.Const(/), Core.PartialStruct(Tuple{Base.Broadcast.Broadcasted{Base.Broadcast.DefaultArrayStyle{2}, Nothing, typeof(*), Tuple{Int64, Matrix{Float64}}}, Float64}, Any[Core.PartialStruct(Base.Broadcast.Broadcasted{Base.Broadcast.DefaultArrayStyle{2}, Nothing, typeof(*), Tuple{Int64, Matrix{Float64}}}, Any[Core.Const(*), Core.PartialStruct(Tuple{Int64, Matrix{Float64}}, Any[Core.Const(2), Matrix{Float64}]), Core.Const(nothing)]), Float64]), Core.Const(nothing)])\u001b[39m\n",
      "\u001b[90m│  \u001b[39m %29 = Base.broadcasted(Main.:*, %28, dt)\u001b[36m::Core.PartialStruct(Base.Broadcast.Broadcasted{Base.Broadcast.DefaultArrayStyle{2}, Nothing, typeof(*), Tuple{Base.Broadcast.Broadcasted{Base.Broadcast.DefaultArrayStyle{2}, Nothing, typeof(/), Tuple{Base.Broadcast.Broadcasted{Base.Broadcast.DefaultArrayStyle{2}, Nothing, typeof(*), Tuple{Int64, Matrix{Float64}}}, Float64}}, Float64}}, Any[Core.Const(*), Core.PartialStruct(Tuple{Base.Broadcast.Broadcasted{Base.Broadcast.DefaultArrayStyle{2}, Nothing, typeof(/), Tuple{Base.Broadcast.Broadcasted{Base.Broadcast.DefaultArrayStyle{2}, Nothing, typeof(*), Tuple{Int64, Matrix{Float64}}}, Float64}}, Float64}, Any[Core.PartialStruct(Base.Broadcast.Broadcasted{Base.Broadcast.DefaultArrayStyle{2}, Nothing, typeof(/), Tuple{Base.Broadcast.Broadcasted{Base.Broadcast.DefaultArrayStyle{2}, Nothing, typeof(*), Tuple{Int64, Matrix{Float64}}}, Float64}}, Any[Core.Const(/), Core.PartialStruct(Tuple{Base.Broadcast.Broadcasted{Base.Broadcast.DefaultArrayStyle{2}, Nothing, typeof(*), Tuple{Int64, Matrix{Float64}}}, Float64}, Any[Core.PartialStruct(Base.Broadcast.Broadcasted{Base.Broadcast.DefaultArrayStyle{2}, Nothing, typeof(*), Tuple{Int64, Matrix{Float64}}}, Any[Core.Const(*), Core.PartialStruct(Tuple{Int64, Matrix{Float64}}, Any[Core.Const(2), Matrix{Float64}]), Core.Const(nothing)]), Float64]), Core.Const(nothing)]), Float64]), Core.Const(nothing)])\u001b[39m\n",
      "\u001b[90m│  \u001b[39m %30 = Base.broadcasted(Main.:-, %24, %29)\u001b[36m::Core.PartialStruct(Base.Broadcast.Broadcasted{Base.Broadcast.DefaultArrayStyle{2}, Nothing, typeof(-), Tuple{Matrix{Float64}, Base.Broadcast.Broadcasted{Base.Broadcast.DefaultArrayStyle{2}, Nothing, typeof(*), Tuple{Base.Broadcast.Broadcasted{Base.Broadcast.DefaultArrayStyle{2}, Nothing, typeof(/), Tuple{Base.Broadcast.Broadcasted{Base.Broadcast.DefaultArrayStyle{2}, Nothing, typeof(*), Tuple{Int64, Matrix{Float64}}}, Float64}}, Float64}}}}, Any[Core.Const(-), Core.PartialStruct(Tuple{Matrix{Float64}, Base.Broadcast.Broadcasted{Base.Broadcast.DefaultArrayStyle{2}, Nothing, typeof(*), Tuple{Base.Broadcast.Broadcasted{Base.Broadcast.DefaultArrayStyle{2}, Nothing, typeof(/), Tuple{Base.Broadcast.Broadcasted{Base.Broadcast.DefaultArrayStyle{2}, Nothing, typeof(*), Tuple{Int64, Matrix{Float64}}}, Float64}}, Float64}}}, Any[Matrix{Float64}, Core.PartialStruct(Base.Broadcast.Broadcasted{Base.Broadcast.DefaultArrayStyle{2}, Nothing, typeof(*), Tuple{Base.Broadcast.Broadcasted{Base.Broadcast.DefaultArrayStyle{2}, Nothing, typeof(/), Tuple{Base.Broadcast.Broadcasted{Base.Broadcast.DefaultArrayStyle{2}, Nothing, typeof(*), Tuple{Int64, Matrix{Float64}}}, Float64}}, Float64}}, Any[Core.Const(*), Core.PartialStruct(Tuple{Base.Broadcast.Broadcasted{Base.Broadcast.DefaultArrayStyle{2}, Nothing, typeof(/), Tuple{Base.Broadcast.Broadcasted{Base.Broadcast.DefaultArrayStyle{2}, Nothing, typeof(*), Tuple{Int64, Matrix{Float64}}}, Float64}}, Float64}, Any[Core.PartialStruct(Base.Broadcast.Broadcasted{Base.Broadcast.DefaultArrayStyle{2}, Nothing, typeof(/), Tuple{Base.Broadcast.Broadcasted{Base.Broadcast.DefaultArrayStyle{2}, Nothing, typeof(*), Tuple{Int64, Matrix{Float64}}}, Float64}}, Any[Core.Const(/), Core.PartialStruct(Tuple{Base.Broadcast.Broadcasted{Base.Broadcast.DefaultArrayStyle{2}, Nothing, typeof(*), Tuple{Int64, Matrix{Float64}}}, Float64}, Any[Core.PartialStruct(Base.Broadcast.Broadcasted{Base.Broadcast.DefaultArrayStyle{2}, Nothing, typeof(*), Tuple{Int64, Matrix{Float64}}}, Any[Core.Const(*), Core.PartialStruct(Tuple{Int64, Matrix{Float64}}, Any[Core.Const(2), Matrix{Float64}]), Core.Const(nothing)]), Float64]), Core.Const(nothing)]), Float64]), Core.Const(nothing)])]), Core.Const(nothing)])\u001b[39m\n",
      "\u001b[90m│  \u001b[39m %31 = Base.broadcasted(Main.:+, Σ, %30)\u001b[36m::Core.PartialStruct(Base.Broadcast.Broadcasted{Base.Broadcast.DefaultArrayStyle{2}, Nothing, typeof(+), Tuple{Matrix{Float64}, Base.Broadcast.Broadcasted{Base.Broadcast.DefaultArrayStyle{2}, Nothing, typeof(-), Tuple{Matrix{Float64}, Base.Broadcast.Broadcasted{Base.Broadcast.DefaultArrayStyle{2}, Nothing, typeof(*), Tuple{Base.Broadcast.Broadcasted{Base.Broadcast.DefaultArrayStyle{2}, Nothing, typeof(/), Tuple{Base.Broadcast.Broadcasted{Base.Broadcast.DefaultArrayStyle{2}, Nothing, typeof(*), Tuple{Int64, Matrix{Float64}}}, Float64}}, Float64}}}}}}, Any[Core.Const(+), Core.PartialStruct(Tuple{Matrix{Float64}, Base.Broadcast.Broadcasted{Base.Broadcast.DefaultArrayStyle{2}, Nothing, typeof(-), Tuple{Matrix{Float64}, Base.Broadcast.Broadcasted{Base.Broadcast.DefaultArrayStyle{2}, Nothing, typeof(*), Tuple{Base.Broadcast.Broadcasted{Base.Broadcast.DefaultArrayStyle{2}, Nothing, typeof(/), Tuple{Base.Broadcast.Broadcasted{Base.Broadcast.DefaultArrayStyle{2}, Nothing, typeof(*), Tuple{Int64, Matrix{Float64}}}, Float64}}, Float64}}}}}, Any[Matrix{Float64}, Core.PartialStruct(Base.Broadcast.Broadcasted{Base.Broadcast.DefaultArrayStyle{2}, Nothing, typeof(-), Tuple{Matrix{Float64}, Base.Broadcast.Broadcasted{Base.Broadcast.DefaultArrayStyle{2}, Nothing, typeof(*), Tuple{Base.Broadcast.Broadcasted{Base.Broadcast.DefaultArrayStyle{2}, Nothing, typeof(/), Tuple{Base.Broadcast.Broadcasted{Base.Broadcast.DefaultArrayStyle{2}, Nothing, typeof(*), Tuple{Int64, Matrix{Float64}}}, Float64}}, Float64}}}}, Any[Core.Const(-), Core.PartialStruct(Tuple{Matrix{Float64}, Base.Broadcast.Broadcasted{Base.Broadcast.DefaultArrayStyle{2}, Nothing, typeof(*), Tuple{Base.Broadcast.Broadcasted{Base.Broadcast.DefaultArrayStyle{2}, Nothing, typeof(/), Tuple{Base.Broadcast.Broadcasted{Base.Broadcast.DefaultArrayStyle{2}, Nothing, typeof(*), Tuple{Int64, Matrix{Float64}}}, Float64}}, Float64}}}, Any[Matrix{Float64}, Core.PartialStruct(Base.Broadcast.Broadcasted{Base.Broadcast.DefaultArrayStyle{2}, Nothing, typeof(*), Tuple{Base.Broadcast.Broadcasted{Base.Broadcast.DefaultArrayStyle{2}, Nothing, typeof(/), Tuple{Base.Broadcast.Broadcasted{Base.Broadcast.DefaultArrayStyle{2}, Nothing, typeof(*), Tuple{Int64, Matrix{Float64}}}, Float64}}, Float64}}, Any[Core.Const(*), Core.PartialStruct(Tuple{Base.Broadcast.Broadcasted{Base.Broadcast.DefaultArrayStyle{2}, Nothing, typeof(/), Tuple{Base.Broadcast.Broadcasted{Base.Broadcast.DefaultArrayStyle{2}, Nothing, typeof(*), Tuple{Int64, Matrix{Float64}}}, Float64}}, Float64}, Any[Core.PartialStruct(Base.Broadcast.Broadcasted{Base.Broadcast.DefaultArrayStyle{2}, Nothing, typeof(/), Tuple{Base.Broadcast.Broadcasted{Base.Broadcast.DefaultArrayStyle{2}, Nothing, typeof(*), Tuple{Int64, Matrix{Float64}}}, Float64}}, Any[Core.Const(/), Core.PartialStruct(Tuple{Base.Broadcast.Broadcasted{Base.Broadcast.DefaultArrayStyle{2}, Nothing, typeof(*), Tuple{Int64, Matrix{Float64}}}, Float64}, Any[Core.PartialStruct(Base.Broadcast.Broadcasted{Base.Broadcast.DefaultArrayStyle{2}, Nothing, typeof(*), Tuple{Int64, Matrix{Float64}}}, Any[Core.Const(*), Core.PartialStruct(Tuple{Int64, Matrix{Float64}}, Any[Core.Const(2), Matrix{Float64}]), Core.Const(nothing)]), Float64]), Core.Const(nothing)]), Float64]), Core.Const(nothing)])]), Core.Const(nothing)])]), Core.Const(nothing)])\u001b[39m\n",
      "\u001b[90m│  \u001b[39m %32 = Base.materialize!(Σ, %31)\u001b[36m::Matrix{Float64}\u001b[39m\n",
      "\u001b[90m└──\u001b[39m       return %32\n"
     ]
    }
   ],
   "source": [
    "@code_warntype update_filter!(μ, Σ, x, y, g0, β, τOU, σOU2, dt)"
   ]
  },
  {
   "cell_type": "code",
   "execution_count": 73,
   "id": "9fc3fe68-280f-455e-ac9a-6483e2d48260",
   "metadata": {
    "tags": []
   },
   "outputs": [
    {
     "data": {
      "text/plain": [
       "BenchmarkTools.Trial: \n",
       "  memory estimate:  3.09 KiB\n",
       "  allocs estimate:  6\n",
       "  --------------\n",
       "  minimum time:     524.339 ns (0.00% GC)\n",
       "  median time:      547.622 ns (0.00% GC)\n",
       "  mean time:        587.206 ns (4.51% GC)\n",
       "  maximum time:     4.758 μs (87.67% GC)\n",
       "  --------------\n",
       "  samples:          10000\n",
       "  evals/sample:     189"
      ]
     },
     "execution_count": 73,
     "metadata": {},
     "output_type": "execute_result"
    }
   ],
   "source": [
    "using BenchmarkTools\n",
    "@benchmark update_filter!($μ, $Σ, $x, $y, $g0, $β, $τOU, $σOU2, $dt)"
   ]
  },
  {
   "cell_type": "code",
   "execution_count": 74,
   "id": "75ac3f18-9cbe-4d6d-aabf-9df911435fe2",
   "metadata": {},
   "outputs": [
    {
     "data": {
      "text/plain": [
       "412.26575809199323"
      ]
     },
     "execution_count": 74,
     "metadata": {},
     "output_type": "execute_result"
    }
   ],
   "source": [
    "242/0.587"
   ]
  },
  {
   "cell_type": "code",
   "execution_count": null,
   "id": "2b05e383-65f9-451a-8bf5-2075dc4271a3",
   "metadata": {},
   "outputs": [],
   "source": []
  }
 ],
 "metadata": {
  "kernelspec": {
   "display_name": "Julia 1.6.1",
   "language": "julia",
   "name": "julia-1.6"
  },
  "language_info": {
   "file_extension": ".jl",
   "mimetype": "application/julia",
   "name": "julia",
   "version": "1.6.1"
  }
 },
 "nbformat": 4,
 "nbformat_minor": 5
}
